{
 "cells": [
  {
   "cell_type": "markdown",
   "metadata": {},
   "source": [
    "# Teste de notebook em Python\n",
    "\n",
    "### Exemplo 1:"
   ]
  },
  {
   "cell_type": "code",
   "execution_count": 1,
   "metadata": {},
   "outputs": [
    {
     "name": "stdout",
     "output_type": "stream",
     "text": [
      "0,1,1,2,3,5,8,13,21,34,55,89,"
     ]
    }
   ],
   "source": [
    "# Série de Fibonacci:\n",
    "\n",
    "a, b = 0, 1\n",
    "\n",
    "while a < 100:\n",
    "    print(a, end=',')\n",
    "    a, b = b, a+b"
   ]
  },
  {
   "cell_type": "markdown",
   "metadata": {},
   "source": [
    "### Exemplo 2:"
   ]
  },
  {
   "cell_type": "code",
   "execution_count": 2,
   "metadata": {},
   "outputs": [
    {
     "name": "stdout",
     "output_type": "stream",
     "text": [
      "Digite um numero: 44\n",
      "Numero 2.2 vezes maior do que vinte\n"
     ]
    }
   ],
   "source": [
    "x = int(input(\"Digite um numero: \"))\n",
    "\n",
    "if x < 20:    \n",
    "    y = x/20    \n",
    "    print('Numero ', y, 'vezes menor do que vinte')\n",
    "elif x == 0:\n",
    "    print('zero')\n",
    "elif x > 20:\n",
    "    z = x/20\n",
    "    print('Numero',z,'vezes maior do que vinte')\n",
    "elif x == 20:\n",
    "    print('Valor correto')\n"
   ]
  },
  {
   "cell_type": "code",
   "execution_count": null,
   "metadata": {},
   "outputs": [],
   "source": []
  }
 ],
 "metadata": {
  "kernelspec": {
   "display_name": "Python 3",
   "language": "python",
   "name": "python3"
  },
  "language_info": {
   "codemirror_mode": {
    "name": "ipython",
    "version": 3
   },
   "file_extension": ".py",
   "mimetype": "text/x-python",
   "name": "python",
   "nbconvert_exporter": "python",
   "pygments_lexer": "ipython3",
   "version": "3.7.6"
  }
 },
 "nbformat": 4,
 "nbformat_minor": 4
}
