{
  "nbformat": 4,
  "nbformat_minor": 0,
  "metadata": {
    "colab": {
      "name": "projeto_1.ipynb",
      "provenance": [],
      "collapsed_sections": [],
      "authorship_tag": "ABX9TyPtt/WY7X1pDV2e+aYFMqgA",
      "include_colab_link": true
    },
    "kernelspec": {
      "name": "python3",
      "display_name": "Python 3"
    }
  },
  "cells": [
    {
      "cell_type": "markdown",
      "metadata": {
        "id": "view-in-github",
        "colab_type": "text"
      },
      "source": [
        "<a href=\"https://colab.research.google.com/github/DarcioMBSilva/notebook_test/blob/main/projeto_1.ipynb\" target=\"_parent\"><img src=\"https://colab.research.google.com/assets/colab-badge.svg\" alt=\"Open In Colab\"/></a>"
      ]
    },
    {
      "cell_type": "markdown",
      "metadata": {
        "id": "mWEeOL4Jzsr0"
      },
      "source": [
        "#**Novo projeto de férias**"
      ]
    },
    {
      "cell_type": "markdown",
      "metadata": {
        "id": "DX1Sg0200FS6"
      },
      "source": [
        "### **Exemplo 1:** Série de Fibonacci"
      ]
    },
    {
      "cell_type": "code",
      "metadata": {
        "colab": {
          "base_uri": "https://localhost:8080/"
        },
        "id": "Axh1zAKBzcMV",
        "outputId": "ffdcecd2-d68e-46b5-9868-32090be73a56"
      },
      "source": [
        "a, b = 0, 1\n",
        "\n",
        "while a < 100:\n",
        "    print(a, end=',')\n",
        "    a, b = b, a+b"
      ],
      "execution_count": 1,
      "outputs": [
        {
          "output_type": "stream",
          "text": [
            "0,1,1,2,3,5,8,13,21,34,55,89,"
          ],
          "name": "stdout"
        }
      ]
    },
    {
      "cell_type": "markdown",
      "metadata": {
        "id": "pWELPkHZ0W6Q"
      },
      "source": [
        "### **Exemplo 2:** Digite um número"
      ]
    },
    {
      "cell_type": "code",
      "metadata": {
        "colab": {
          "base_uri": "https://localhost:8080/"
        },
        "id": "SqeHinUi0DKw",
        "outputId": "ba366bbc-3816-45fb-b02c-98cfa4bbfbea"
      },
      "source": [
        "x = int(input(\"Digite um numero: \"))\n",
        "\n",
        "if x < 20:    \n",
        "    y = x/20    \n",
        "    print('Numero ', y, 'vezes menor do que vinte')\n",
        "elif x == 0:\n",
        "    print('zero')\n",
        "elif x > 20:\n",
        "    z = x/20\n",
        "    print('Numero',z,'vezes maior do que vinte')\n",
        "elif x == 20:\n",
        "    print('Valor correto')\n"
      ],
      "execution_count": 3,
      "outputs": [
        {
          "output_type": "stream",
          "text": [
            "Digite um numero: 20\n",
            "Valor correto\n"
          ],
          "name": "stdout"
        }
      ]
    },
    {
      "cell_type": "code",
      "metadata": {
        "id": "OavLzlwu0fo3"
      },
      "source": [
        ""
      ],
      "execution_count": null,
      "outputs": []
    }
  ]
}